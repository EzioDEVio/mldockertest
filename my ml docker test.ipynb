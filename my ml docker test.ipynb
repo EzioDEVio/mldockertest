{
 "cells": [
  {
   "cell_type": "code",
   "execution_count": 1,
   "id": "4c7c31f4",
   "metadata": {},
   "outputs": [
    {
     "name": "stdout",
     "output_type": "stream",
     "text": [
      "WARNING:tensorflow:From C:\\Users\\8578\\anaconda3\\lib\\site-packages\\keras\\src\\losses.py:2976: The name tf.losses.sparse_softmax_cross_entropy is deprecated. Please use tf.compat.v1.losses.sparse_softmax_cross_entropy instead.\n",
      "\n",
      "Found 16 images belonging to 2 classes.\n",
      "Found 4 images belonging to 2 classes.\n",
      "WARNING:tensorflow:From C:\\Users\\8578\\anaconda3\\lib\\site-packages\\keras\\src\\backend.py:873: The name tf.get_default_graph is deprecated. Please use tf.compat.v1.get_default_graph instead.\n",
      "\n",
      "WARNING:tensorflow:From C:\\Users\\8578\\anaconda3\\lib\\site-packages\\keras\\src\\layers\\pooling\\max_pooling2d.py:161: The name tf.nn.max_pool is deprecated. Please use tf.nn.max_pool2d instead.\n",
      "\n",
      "WARNING:tensorflow:From C:\\Users\\8578\\anaconda3\\lib\\site-packages\\keras\\src\\optimizers\\__init__.py:309: The name tf.train.Optimizer is deprecated. Please use tf.compat.v1.train.Optimizer instead.\n",
      "\n",
      "Epoch 1/10\n",
      "WARNING:tensorflow:From C:\\Users\\8578\\anaconda3\\lib\\site-packages\\keras\\src\\utils\\tf_utils.py:492: The name tf.ragged.RaggedTensorValue is deprecated. Please use tf.compat.v1.ragged.RaggedTensorValue instead.\n",
      "\n",
      "WARNING:tensorflow:From C:\\Users\\8578\\anaconda3\\lib\\site-packages\\keras\\src\\engine\\base_layer_utils.py:384: The name tf.executing_eagerly_outside_functions is deprecated. Please use tf.compat.v1.executing_eagerly_outside_functions instead.\n",
      "\n",
      "4/4 [==============================] - 2s 223ms/step - loss: 1.7705 - accuracy: 0.4375 - val_loss: 0.9090 - val_accuracy: 0.5000\n",
      "Epoch 2/10\n",
      "4/4 [==============================] - 1s 145ms/step - loss: 0.7044 - accuracy: 0.5000 - val_loss: 0.6745 - val_accuracy: 0.5000\n",
      "Epoch 3/10\n",
      "4/4 [==============================] - 1s 139ms/step - loss: 0.6796 - accuracy: 0.5000 - val_loss: 0.6631 - val_accuracy: 0.7500\n",
      "Epoch 4/10\n",
      "4/4 [==============================] - 1s 137ms/step - loss: 0.6843 - accuracy: 0.6250 - val_loss: 0.6356 - val_accuracy: 0.7500\n",
      "Epoch 5/10\n",
      "4/4 [==============================] - 1s 144ms/step - loss: 0.6488 - accuracy: 0.6250 - val_loss: 0.6249 - val_accuracy: 0.7500\n",
      "Epoch 6/10\n",
      "4/4 [==============================] - 1s 136ms/step - loss: 0.6968 - accuracy: 0.5000 - val_loss: 0.6293 - val_accuracy: 0.7500\n",
      "Epoch 7/10\n",
      "4/4 [==============================] - 1s 141ms/step - loss: 0.6302 - accuracy: 0.6875 - val_loss: 0.6773 - val_accuracy: 0.5000\n",
      "Epoch 8/10\n",
      "4/4 [==============================] - 1s 142ms/step - loss: 0.6841 - accuracy: 0.5625 - val_loss: 0.6628 - val_accuracy: 0.5000\n",
      "Epoch 9/10\n",
      "4/4 [==============================] - 1s 143ms/step - loss: 0.6533 - accuracy: 0.6250 - val_loss: 0.6530 - val_accuracy: 0.7500\n",
      "Epoch 10/10\n",
      "4/4 [==============================] - 1s 141ms/step - loss: 0.7486 - accuracy: 0.6250 - val_loss: 0.8117 - val_accuracy: 0.7500\n",
      "INFO:tensorflow:Assets written to: my_test_model\\assets\n"
     ]
    },
    {
     "name": "stderr",
     "output_type": "stream",
     "text": [
      "INFO:tensorflow:Assets written to: my_test_model\\assets\n"
     ]
    }
   ],
   "source": [
    "import tensorflow as tf\n",
    "from tensorflow.keras.preprocessing.image import ImageDataGenerator\n",
    "from tensorflow.keras.models import Sequential\n",
    "from tensorflow.keras.layers import Conv2D, MaxPooling2D, Flatten, Dense\n",
    "\n",
    "# Paths to your training and validation directories\n",
    "train_dir = 'D:\\\\ml test model\\\\dataset\\\\train'\n",
    "validation_dir = 'D:\\\\ml test model\\\\dataset\\\\validation'\n",
    "\n",
    "# Data Augmentation for the training data\n",
    "train_datagen = ImageDataGenerator(\n",
    "    rescale=1./255,\n",
    "    rotation_range=40,\n",
    "    width_shift_range=0.2,\n",
    "    height_shift_range=0.2,\n",
    "    shear_range=0.2,\n",
    "    zoom_range=0.2,\n",
    "    horizontal_flip=True,\n",
    "    fill_mode='nearest')\n",
    "\n",
    "# Just rescale validation data\n",
    "validation_datagen = ImageDataGenerator(rescale=1./255)\n",
    "\n",
    "# Assuming a batch size of 4 for both training and validation\n",
    "batch_size = 4\n",
    "\n",
    "# Flow training images in batches of 4 using train_datagen generator\n",
    "train_generator = train_datagen.flow_from_directory(\n",
    "    train_dir,\n",
    "    target_size=(150, 150),\n",
    "    batch_size=batch_size,\n",
    "    class_mode='binary')\n",
    "\n",
    "# Flow validation images in batches of 4 using validation_datagen generator\n",
    "validation_generator = validation_datagen.flow_from_directory(\n",
    "    validation_dir,\n",
    "    target_size=(150, 150),\n",
    "    batch_size=batch_size,\n",
    "    class_mode='binary')\n",
    "\n",
    "# Define a simple CNN model\n",
    "model = Sequential([\n",
    "    Conv2D(32, (3, 3), activation='relu', input_shape=(150, 150, 3)),\n",
    "    MaxPooling2D(2, 2),\n",
    "    Conv2D(64, (3, 3), activation='relu'),\n",
    "    MaxPooling2D(2, 2),\n",
    "    Conv2D(128, (3, 3), activation='relu'),\n",
    "    MaxPooling2D(2, 2),\n",
    "    Flatten(),\n",
    "    Dense(512, activation='relu'),\n",
    "    Dense(1, activation='sigmoid')\n",
    "])\n",
    "\n",
    "# Compile the model\n",
    "model.compile(loss='binary_crossentropy',\n",
    "              optimizer='adam',\n",
    "              metrics=['accuracy'])\n",
    "\n",
    "# Calculate steps per epoch and validation steps\n",
    "steps_per_epoch = (8 * 2) / batch_size  # 16 training images\n",
    "validation_steps = (2 * 2) / batch_size  # 4 validation images\n",
    "\n",
    "# Train the model\n",
    "history = model.fit(\n",
    "    train_generator,\n",
    "    steps_per_epoch=steps_per_epoch,\n",
    "    epochs=10,\n",
    "    validation_data=validation_generator,\n",
    "    validation_steps=validation_steps\n",
    ")\n",
    "\n",
    "# Save the model in TensorFlow SavedModel format\n",
    "model.save('my_test_model')  # Saved in TensorFlow SavedModel format\n"
   ]
  },
  {
   "cell_type": "code",
   "execution_count": 2,
   "id": "febd3386",
   "metadata": {},
   "outputs": [
    {
     "name": "stdout",
     "output_type": "stream",
     "text": [
      "Current Working Directory: C:\\Users\\8578\n"
     ]
    }
   ],
   "source": [
    "import os\n",
    "\n",
    "current_working_directory = os.getcwd()\n",
    "print(\"Current Working Directory:\", current_working_directory)"
   ]
  },
  {
   "cell_type": "code",
   "execution_count": null,
   "id": "429a163f",
   "metadata": {},
   "outputs": [],
   "source": []
  }
 ],
 "metadata": {
  "kernelspec": {
   "display_name": "Python 3 (ipykernel)",
   "language": "python",
   "name": "python3"
  },
  "language_info": {
   "codemirror_mode": {
    "name": "ipython",
    "version": 3
   },
   "file_extension": ".py",
   "mimetype": "text/x-python",
   "name": "python",
   "nbconvert_exporter": "python",
   "pygments_lexer": "ipython3",
   "version": "3.9.7"
  }
 },
 "nbformat": 4,
 "nbformat_minor": 5
}
